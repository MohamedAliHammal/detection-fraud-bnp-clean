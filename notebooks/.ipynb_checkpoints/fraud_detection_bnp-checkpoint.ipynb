{
 "cells": [
  {
   "cell_type": "code",
   "execution_count": 1,
   "id": "733623f5",
   "metadata": {},
   "outputs": [
    {
     "name": "stderr",
     "output_type": "stream",
     "text": [
      "/Users/drmohamed/opt/anaconda3/lib/python3.9/site-packages/xgboost/compat.py:36: FutureWarning: pandas.Int64Index is deprecated and will be removed from pandas in a future version. Use pandas.Index with the appropriate dtype instead.\n",
      "  from pandas import MultiIndex, Int64Index\n"
     ]
    },
    {
     "ename": "ModuleNotFoundError",
     "evalue": "No module named 'lightgbm'",
     "output_type": "error",
     "traceback": [
      "\u001b[0;31m---------------------------------------------------------------------------\u001b[0m",
      "\u001b[0;31mModuleNotFoundError\u001b[0m                       Traceback (most recent call last)",
      "\u001b[0;32m/var/folders/3x/jrcv617s1gd_94yvvqdgzdrr0000gn/T/ipykernel_7097/2274967656.py\u001b[0m in \u001b[0;36m<module>\u001b[0;34m\u001b[0m\n\u001b[1;32m      9\u001b[0m \u001b[0;32mfrom\u001b[0m \u001b[0msklearn\u001b[0m\u001b[0;34m.\u001b[0m\u001b[0mensemble\u001b[0m \u001b[0;32mimport\u001b[0m \u001b[0mRandomForestClassifier\u001b[0m\u001b[0;34m\u001b[0m\u001b[0;34m\u001b[0m\u001b[0m\n\u001b[1;32m     10\u001b[0m \u001b[0;32mfrom\u001b[0m \u001b[0mxgboost\u001b[0m \u001b[0;32mimport\u001b[0m \u001b[0mXGBClassifier\u001b[0m\u001b[0;34m\u001b[0m\u001b[0;34m\u001b[0m\u001b[0m\n\u001b[0;32m---> 11\u001b[0;31m \u001b[0;32mfrom\u001b[0m \u001b[0mlightgbm\u001b[0m \u001b[0;32mimport\u001b[0m \u001b[0mLGBMClassifier\u001b[0m\u001b[0;34m\u001b[0m\u001b[0;34m\u001b[0m\u001b[0m\n\u001b[0m\u001b[1;32m     12\u001b[0m \u001b[0;32mfrom\u001b[0m \u001b[0msklearn\u001b[0m\u001b[0;34m.\u001b[0m\u001b[0mmetrics\u001b[0m \u001b[0;32mimport\u001b[0m \u001b[0maverage_precision_score\u001b[0m\u001b[0;34m,\u001b[0m \u001b[0mprecision_recall_curve\u001b[0m\u001b[0;34m\u001b[0m\u001b[0;34m\u001b[0m\u001b[0m\n\u001b[1;32m     13\u001b[0m \u001b[0;32mimport\u001b[0m \u001b[0mmatplotlib\u001b[0m\u001b[0;34m.\u001b[0m\u001b[0mpyplot\u001b[0m \u001b[0;32mas\u001b[0m \u001b[0mplt\u001b[0m\u001b[0;34m\u001b[0m\u001b[0;34m\u001b[0m\u001b[0m\n",
      "\u001b[0;31mModuleNotFoundError\u001b[0m: No module named 'lightgbm'"
     ]
    }
   ],
   "source": [
    "# Cell 1: Imports\n",
    "import pandas as pd\n",
    "import numpy as np\n",
    "from sklearn.model_selection import train_test_split\n",
    "from sklearn.pipeline import Pipeline\n",
    "from sklearn.impute import SimpleImputer\n",
    "from sklearn.preprocessing import OneHotEncoder, StandardScaler\n",
    "from sklearn.compose import ColumnTransformer\n",
    "from sklearn.ensemble import RandomForestClassifier\n",
    "from xgboost import XGBClassifier\n",
    "from lightgbm import LGBMClassifier\n",
    "from sklearn.metrics import average_precision_score, precision_recall_curve\n",
    "import matplotlib.pyplot as plt\n",
    "import joblib\n",
    "import os"
   ]
  },
  {
   "cell_type": "code",
   "execution_count": null,
   "id": "7e7e3b98",
   "metadata": {},
   "outputs": [],
   "source": [
    "# Cell 2: Load data\n",
    "X_train = pd.read_csv(\"../data/raw/X_train_G3tdtEn.csv\")\n",
    "y_train = pd.read_csv(\"../data/raw/Y_train_2_XPXJDyy.csv\")\n",
    "X_test = pd.read_csv(\"../data/raw/X_test_8skS2ey.csv\")"
   ]
  },
  {
   "cell_type": "code",
   "execution_count": null,
   "id": "a3b20e0a",
   "metadata": {},
   "outputs": [],
   "source": [
    "# Cell 3: Format label\n",
    "y_train = y_train[\"fraud\"]"
   ]
  },
  {
   "cell_type": "code",
   "execution_count": null,
   "id": "018fcb29",
   "metadata": {},
   "outputs": [],
   "source": [
    "# Cell 4: Preprocessing pipeline\n",
    "num_cols = [col for col in X_train.columns if X_train[col].dtype in ['int64', 'float64'] and col != 'ID']\n",
    "cat_cols = [col for col in X_train.columns if X_train[col].dtype == 'object']\n",
    "\n",
    "numeric_transformer = Pipeline([\n",
    "    (\"imputer\", SimpleImputer(strategy=\"median\")),\n",
    "    (\"scaler\", StandardScaler())\n",
    "])\n",
    "\n",
    "categorical_transformer = Pipeline([\n",
    "    (\"imputer\", SimpleImputer(strategy=\"constant\", fill_value=\"missing\")),\n",
    "    (\"onehot\", OneHotEncoder(handle_unknown=\"ignore\", sparse=False))\n",
    "])\n",
    "\n",
    "preprocessor = ColumnTransformer([\n",
    "    (\"num\", numeric_transformer, num_cols),\n",
    "    (\"cat\", categorical_transformer, cat_cols)\n",
    "])"
   ]
  },
  {
   "cell_type": "code",
   "execution_count": null,
   "id": "3ec44fa1",
   "metadata": {},
   "outputs": [],
   "source": [
    "# Cell 5: Define models\n",
    "models = {\n",
    "    \"RandomForest\": RandomForestClassifier(n_estimators=100, random_state=42, n_jobs=-1),\n",
    "    \"XGBoost\": XGBClassifier(n_estimators=100, use_label_encoder=False, eval_metric=\"logloss\", random_state=42),\n",
    "    \"LightGBM\": LGBMClassifier(n_estimators=100, random_state=42)\n",
    "}"
   ]
  },
  {
   "cell_type": "code",
   "execution_count": null,
   "id": "0021d79f",
   "metadata": {},
   "outputs": [],
   "source": [
    "# Cell 6: Train and evaluate models\n",
    "results = {}\n",
    "X_train_part, X_val_part, y_train_part, y_val_part = train_test_split(\n",
    "    X_train, y_train, test_size=0.2, stratify=y_train, random_state=42\n",
    ")\n",
    "\n",
    "for name, model in models.items():\n",
    "    clf = Pipeline([\n",
    "        (\"preprocessor\", preprocessor),\n",
    "        (\"classifier\", model)\n",
    "    ])\n",
    "    clf.fit(X_train_part, y_train_part)\n",
    "    y_val_proba = clf.predict_proba(X_val_part)[:, 1]\n",
    "    ap_score = average_precision_score(y_val_part, y_val_proba)\n",
    "    results[name] = {\n",
    "        \"model\": clf,\n",
    "        \"pr_auc\": ap_score\n",
    "    }\n",
    "    print(f\"{name} - Validation PR-AUC: {ap_score:.4f}\")"
   ]
  },
  {
   "cell_type": "code",
   "execution_count": null,
   "id": "981a9fdf",
   "metadata": {},
   "outputs": [],
   "source": [
    "# Cell 7: Select best model\n",
    "best_model_name = max(results, key=lambda x: results[x][\"pr_auc\"])\n",
    "best_model = results[best_model_name][\"model\"]\n",
    "print(f\"\\n✅ Best model selected: {best_model_name}\")"
   ]
  },
  {
   "cell_type": "code",
   "execution_count": null,
   "id": "5bb9a3e5",
   "metadata": {},
   "outputs": [],
   "source": [
    "# Cell 8: Retrain on full training set and predict\n",
    "best_model.fit(X_train, y_train)\n",
    "y_test_pred = best_model.predict_proba(X_test)[:, 1]\n",
    "\n",
    "submission = pd.DataFrame({\n",
    "    \"ID\": X_test[\"ID\"],\n",
    "    \"fraud\": y_test_pred\n",
    "})\n",
    "\n",
    "os.makedirs(\"../output\", exist_ok=True)\n",
    "submission.to_csv(\"../output/submission.csv\", index=False)\n",
    "print(\"Submission saved to ../output/submission.csv\")"
   ]
  },
  {
   "cell_type": "code",
   "execution_count": null,
   "id": "3e5c0281",
   "metadata": {},
   "outputs": [],
   "source": [
    "# Cell 9: Plot Precision-Recall curve\n",
    "precision, recall, _ = precision_recall_curve(y_train, best_model.predict_proba(X_train)[:, 1])\n",
    "plt.figure(figsize=(8, 5))\n",
    "plt.plot(recall, precision, label=f\"PR-AUC = {results[best_model_name]['pr_auc']:.2f}\")\n",
    "plt.xlabel(\"Recall\")\n",
    "plt.ylabel(\"Precision\")\n",
    "plt.title(\"Precision-Recall Curve (Best Model)\")\n",
    "plt.legend()\n",
    "plt.grid()\n",
    "plt.show()"
   ]
  }
 ],
 "metadata": {
  "kernelspec": {
   "display_name": "base",
   "language": "python",
   "name": "python3"
  },
  "language_info": {
   "codemirror_mode": {
    "name": "ipython",
    "version": 3
   },
   "file_extension": ".py",
   "mimetype": "text/x-python",
   "name": "python",
   "nbconvert_exporter": "python",
   "pygments_lexer": "ipython3",
   "version": "3.9.21"
  }
 },
 "nbformat": 4,
 "nbformat_minor": 5
}
