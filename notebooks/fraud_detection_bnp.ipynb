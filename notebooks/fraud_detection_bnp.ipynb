{
 "cells": [
  {
   "cell_type": "code",
   "execution_count": null,
   "id": "733623f5",
   "metadata": {},
   "outputs": [
    {
     "name": "stderr",
     "output_type": "stream",
     "text": [
      "Matplotlib is building the font cache; this may take a moment.\n"
     ]
    }
   ],
   "source": [
    "# Cell 1: Imports\n",
    "import pandas as pd\n",
    "import numpy as np\n",
    "from sklearn.model_selection import train_test_split\n",
    "from sklearn.pipeline import Pipeline\n",
    "from sklearn.impute import SimpleImputer\n",
    "from sklearn.preprocessing import OneHotEncoder, StandardScaler\n",
    "from sklearn.compose import ColumnTransformer\n",
    "from sklearn.ensemble import RandomForestClassifier\n",
    "from xgboost import XGBClassifier\n",
    "from lightgbm import LGBMClassifier\n",
    "from sklearn.metrics import average_precision_score, precision_recall_curve\n",
    "import matplotlib.pyplot as plt\n",
    "import joblib\n",
    "import os\n",
    "\n",
    "from datetime import datetime"
   ]
  },
  {
   "cell_type": "code",
   "execution_count": 2,
   "id": "7e7e3b98",
   "metadata": {},
   "outputs": [
    {
     "name": "stderr",
     "output_type": "stream",
     "text": [
      "/var/folders/3x/jrcv617s1gd_94yvvqdgzdrr0000gn/T/ipykernel_1418/377774935.py:2: DtypeWarning: Columns (21,22,23,24,69,70,71,72,93,94,95,96,97,104,105,106,107,108,109,110,111,112,113,114,115,116,117,118,119,120) have mixed types. Specify dtype option on import or set low_memory=False.\n",
      "  X_train = pd.read_csv(\"../data/raw/X_train_G3tdtEn.csv\")\n",
      "/var/folders/3x/jrcv617s1gd_94yvvqdgzdrr0000gn/T/ipykernel_1418/377774935.py:4: DtypeWarning: Columns (20,21,22,23,24,68,69,70,71,72,92,93,94,95,96,97,106,107,108,109,110,111,112,113,114,115,116,117,118) have mixed types. Specify dtype option on import or set low_memory=False.\n",
      "  X_test = pd.read_csv(\"../data/raw/X_test_8skS2ey.csv\")\n"
     ]
    }
   ],
   "source": [
    "# Cell 2: Load data\n",
    "X_train = pd.read_csv(\"../data/raw/X_train_G3tdtEn.csv\")\n",
    "y_train = pd.read_csv(\"../data/raw/Y_train_2_XPXJDyy.csv\")\n",
    "X_test = pd.read_csv(\"../data/raw/X_test_8skS2ey.csv\")"
   ]
  },
  {
   "cell_type": "code",
   "execution_count": null,
   "id": "a3b20e0a",
   "metadata": {},
   "outputs": [],
   "source": [
    "# Cell 3: Format label\n",
    "y_train = y_train[\"fraud_flag\"]"
   ]
  },
  {
   "cell_type": "code",
   "execution_count": null,
   "id": "018fcb29",
   "metadata": {},
   "outputs": [],
   "source": [
    "# Cell 4: Preprocessing pipeline\n",
    "num_cols = [col for col in X_train.columns if X_train[col].dtype in ['int64', 'float64'] and col != 'ID']\n",
    "cat_cols = [col for col in X_train.columns if X_train[col].dtype == 'object']\n",
    "\n",
    "numeric_transformer = Pipeline([\n",
    "    (\"imputer\", SimpleImputer(strategy=\"median\")),\n",
    "    (\"scaler\", StandardScaler())\n",
    "])\n",
    "\n",
    "categorical_transformer = Pipeline([\n",
    "    (\"imputer\", SimpleImputer(strategy=\"constant\", fill_value=\"missing\")),\n",
    "    (\"onehot\", OneHotEncoder(handle_unknown=\"ignore\", sparse_output=False))\n",
    "])\n",
    "\n",
    "preprocessor = ColumnTransformer([\n",
    "    (\"num\", numeric_transformer, num_cols),\n",
    "    (\"cat\", categorical_transformer, cat_cols)\n",
    "])"
   ]
  },
  {
   "cell_type": "code",
   "execution_count": null,
   "id": "3ec44fa1",
   "metadata": {},
   "outputs": [],
   "source": [
    "# Cell 5: Define models\n",
    "models = {\n",
    "    #\"RandomForest\": RandomForestClassifier(n_estimators=100, random_state=42, n_jobs=-1),\n",
    "    #\"XGBoost\": XGBClassifier(n_estimators=100, use_label_encoder=False, eval_metric=\"logloss\", random_state=42),\n",
    "    \"LightGBM\": LGBMClassifier(n_estimators=100, random_state=42)\n",
    "}"
   ]
  },
  {
   "cell_type": "code",
   "execution_count": 12,
   "id": "0021d79f",
   "metadata": {},
   "outputs": [
    {
     "name": "stdout",
     "output_type": "stream",
     "text": [
      "RandomForest - Validation PR-AUC: 0.1900\n"
     ]
    },
    {
     "name": "stderr",
     "output_type": "stream",
     "text": [
      "/Users/drmohamed/Desktop/DS_Portfolio/detection-fraud-bnp/.venv/lib/python3.9/site-packages/xgboost/core.py:158: UserWarning: [09:03:13] WARNING: /Users/runner/work/xgboost/xgboost/src/learner.cc:740: \n",
      "Parameters: { \"use_label_encoder\" } are not used.\n",
      "\n",
      "  warnings.warn(smsg, UserWarning)\n"
     ]
    },
    {
     "name": "stdout",
     "output_type": "stream",
     "text": [
      "XGBoost - Validation PR-AUC: 0.1866\n",
      "[LightGBM] [Info] Number of positive: 1055, number of negative: 73177\n",
      "[LightGBM] [Info] Auto-choosing row-wise multi-threading, the overhead of testing was 0.184472 seconds.\n",
      "You can set `force_row_wise=true` to remove the overhead.\n",
      "And if memory is not enough, you can set `force_col_wise=true`.\n",
      "[LightGBM] [Info] Total Bins 5078\n",
      "[LightGBM] [Info] Number of data points in the train set: 74232, number of used features: 1401\n",
      "[LightGBM] [Info] [binary:BoostFromScore]: pavg=0.014212 -> initscore=-4.239340\n",
      "[LightGBM] [Info] Start training from score -4.239340\n"
     ]
    },
    {
     "name": "stderr",
     "output_type": "stream",
     "text": [
      "/Users/drmohamed/Desktop/DS_Portfolio/detection-fraud-bnp/.venv/lib/python3.9/site-packages/sklearn/utils/validation.py:2739: UserWarning: X does not have valid feature names, but LGBMClassifier was fitted with feature names\n",
      "  warnings.warn(\n"
     ]
    },
    {
     "name": "stdout",
     "output_type": "stream",
     "text": [
      "LightGBM - Validation PR-AUC: 0.1901\n"
     ]
    }
   ],
   "source": [
    "# Cell 6: Train and evaluate models\n",
    "results = {}\n",
    "\n",
    "# Split\n",
    "X_train_part, X_val_part, y_train_part, y_val_part = train_test_split(\n",
    "    X_train, y_train, test_size=0.2, stratify=y_train, random_state=42\n",
    ")\n",
    "\n",
    "# Corriger les types mélangés dans les colonnes catégorielles\n",
    "X_train_part[cat_cols] = X_train_part[cat_cols].astype(str)\n",
    "X_val_part[cat_cols] = X_val_part[cat_cols].astype(str)\n",
    "\n",
    "# Entraînement des modèles\n",
    "for name, model in models.items():\n",
    "    clf = Pipeline([\n",
    "        (\"preprocessor\", preprocessor),\n",
    "        (\"classifier\", model)\n",
    "    ])\n",
    "    clf.fit(X_train_part, y_train_part)\n",
    "    y_val_proba = clf.predict_proba(X_val_part)[:, 1]\n",
    "    ap_score = average_precision_score(y_val_part, y_val_proba)\n",
    "    results[name] = {\n",
    "        \"model\": clf,\n",
    "        \"pr_auc\": ap_score\n",
    "    }\n",
    "    print(f\"{name} - Validation PR-AUC: {ap_score:.4f}\")\n"
   ]
  },
  {
   "cell_type": "code",
   "execution_count": 13,
   "id": "981a9fdf",
   "metadata": {},
   "outputs": [
    {
     "name": "stdout",
     "output_type": "stream",
     "text": [
      "\n",
      "✅ Best model selected: LightGBM\n"
     ]
    }
   ],
   "source": [
    "# Cell 7: Select best model\n",
    "best_model_name = max(results, key=lambda x: results[x][\"pr_auc\"])\n",
    "best_model = results[best_model_name][\"model\"]\n",
    "print(f\"\\n✅ Best model selected: {best_model_name}\")"
   ]
  },
  {
   "cell_type": "code",
   "execution_count": null,
   "id": "5bb9a3e5",
   "metadata": {},
   "outputs": [
    {
     "name": "stdout",
     "output_type": "stream",
     "text": [
      "[LightGBM] [Info] Number of positive: 1319, number of negative: 91471\n",
      "[LightGBM] [Info] Auto-choosing row-wise multi-threading, the overhead of testing was 0.539339 seconds.\n",
      "You can set `force_row_wise=true` to remove the overhead.\n",
      "And if memory is not enough, you can set `force_col_wise=true`.\n",
      "[LightGBM] [Info] Total Bins 5815\n",
      "[LightGBM] [Info] Number of data points in the train set: 92790, number of used features: 1638\n",
      "[LightGBM] [Info] [binary:BoostFromScore]: pavg=0.014215 -> initscore=-4.239148\n",
      "[LightGBM] [Info] Start training from score -4.239148\n"
     ]
    },
    {
     "name": "stderr",
     "output_type": "stream",
     "text": [
      "/Users/drmohamed/Desktop/DS_Portfolio/detection-fraud-bnp/.venv/lib/python3.9/site-packages/sklearn/utils/validation.py:2739: UserWarning: X does not have valid feature names, but LGBMClassifier was fitted with feature names\n",
      "  warnings.warn(\n"
     ]
    },
    {
     "name": "stdout",
     "output_type": "stream",
     "text": [
      "Submission saved to ../output/submission.csv\n"
     ]
    }
   ],
   "source": [
    "# Cell 8: Retrain on full training set and predict\n",
    "\n",
    "# Important : convertir les colonnes catégorielles en str\n",
    "X_train[cat_cols] = X_train[cat_cols].astype(str)\n",
    "X_test[cat_cols] = X_test[cat_cols].astype(str)\n",
    "\n",
    "# Réentraîner le meilleur modèle sur tout l'ensemble d'entraînement\n",
    "best_model.fit(X_train, y_train)\n",
    "\n",
    "# Save final model\n",
    "os.makedirs(\"output\", exist_ok=True)\n",
    "timestamp = datetime.now().strftime(\"%Y%m%d_%H%M%S\")\n",
    "joblib.dump(best_model, \"../output/lgbm_model_final_{timestamp}.joblib\")\n",
    "\n",
    "# Prédiction\n",
    "y_test_pred = best_model.predict_proba(X_test)[:, 1]\n",
    "\n",
    "# Format de soumission\n",
    "submission = pd.DataFrame({\n",
    "    \"index\": range(len(X_test)),\n",
    "    \"ID\": X_test[\"ID\"],\n",
    "    \"fraud_flag\": y_test_pred\n",
    "})\n",
    "\n",
    "# Sauvegarde\n",
    "os.makedirs(\"../output\", exist_ok=True)\n",
    "expected_cols = [\"index\", \"ID\", \"fraud_flag\"]\n",
    "assert submission.shape[1] == 3, \"Le fichier de soumission doit avoir 3 colonnes : index, ID, fraud_flag\"\n",
    "assert submission.columns.tolist() == expected_cols, f\"Les colonnes doivent être exactement {expected_cols}\"\n",
    "assert submission[\"fraud_flag\"].between(0, 1).all(), \"Toutes les probabilités doivent être entre 0 et 1\"\n",
    "assert submission[\"ID\"].is_unique, \"Chaque ID doit être unique\"\n",
    "assert (submission[\"index\"] == range(len(submission))).all(), \"La colonne index doit être une séquence de 0 à N-1\"\n",
    "print(\"Le format de soumission est valide.\")\n",
    "\n",
    "submission.to_csv(\"../output/submission.csv\", index=False)\n",
    "print(\"Submission saved to ../output/submission.csv\")"
   ]
  },
  {
   "cell_type": "code",
   "execution_count": 16,
   "id": "3e5c0281",
   "metadata": {},
   "outputs": [
    {
     "name": "stderr",
     "output_type": "stream",
     "text": [
      "/Users/drmohamed/Desktop/DS_Portfolio/detection-fraud-bnp/.venv/lib/python3.9/site-packages/sklearn/utils/validation.py:2739: UserWarning: X does not have valid feature names, but LGBMClassifier was fitted with feature names\n",
      "  warnings.warn(\n"
     ]
    },
    {
     "data": {
      "image/png": "[encoded data removed]",
      "text/plain": [
       "<Figure size 800x500 with 1 Axes>"
      ]
     },
     "metadata": {},
     "output_type": "display_data"
    }
   ],
   "source": [
    "# Cell 9: Plot Precision-Recall curve\n",
    "precision, recall, _ = precision_recall_curve(y_train, best_model.predict_proba(X_train)[:, 1])\n",
    "plt.figure(figsize=(8, 5))\n",
    "plt.plot(recall, precision, label=f\"PR-AUC = {results[best_model_name]['pr_auc']:.2f}\")\n",
    "plt.xlabel(\"Recall\")\n",
    "plt.ylabel(\"Precision\")\n",
    "plt.title(\"Precision-Recall Curve (Best Model)\")\n",
    "plt.legend()\n",
    "plt.grid()\n",
    "plt.show()"
   ]
  }
 ],
 "metadata": {
  "kernelspec": {
   "display_name": ".venv",
   "language": "python",
   "name": "python3"
  },
  "language_info": {
   "codemirror_mode": {
    "name": "ipython",
    "version": 3
   },
   "file_extension": ".py",
   "mimetype": "text/x-python",
   "name": "python",
   "nbconvert_exporter": "python",
   "pygments_lexer": "ipython3",
   "version": "3.9.21"
  }
 },
 "nbformat": 4,
 "nbformat_minor": 5
}
