{
 "cells": [
  {
   "cell_type": "code",
   "execution_count": 1,
   "id": "bc8eb826",
   "metadata": {},
   "outputs": [],
   "source": [
    "# Cell 1: Imports\n",
    "import pandas as pd\n",
    "import numpy as np\n",
    "import os\n",
    "import joblib\n",
    "import matplotlib.pyplot as plt\n",
    "from datetime import datetime\n",
    "\n",
    "from sklearn.model_selection import train_test_split\n",
    "from sklearn.pipeline import Pipeline\n",
    "from sklearn.compose import ColumnTransformer\n",
    "from sklearn.impute import SimpleImputer\n",
    "from sklearn.preprocessing import OneHotEncoder, StandardScaler\n",
    "from sklearn.linear_model import LogisticRegression\n",
    "from sklearn.ensemble import RandomForestClassifier, StackingClassifier\n",
    "from xgboost import XGBClassifier\n",
    "from lightgbm import LGBMClassifier\n",
    "from sklearn.metrics import average_precision_score, precision_recall_curve"
   ]
  },
  {
   "cell_type": "code",
   "execution_count": 2,
   "id": "76300124",
   "metadata": {},
   "outputs": [
    {
     "name": "stderr",
     "output_type": "stream",
     "text": [
      "/Users/drmohamed/Desktop/repos/detection-fraud-bnp-clean/.venv/lib/python3.7/site-packages/IPython/core/interactiveshell.py:3553: DtypeWarning: Columns (21,22,23,24,69,70,71,72,93,94,95,96,97,104,105,106,107,108,109,110,111,112,113,114,115,116,117,118,119,120) have mixed types.Specify dtype option on import or set low_memory=False.\n",
      "  exec(code_obj, self.user_global_ns, self.user_ns)\n",
      "/Users/drmohamed/Desktop/repos/detection-fraud-bnp-clean/.venv/lib/python3.7/site-packages/IPython/core/interactiveshell.py:3553: DtypeWarning: Columns (20,21,22,23,24,68,69,70,71,72,92,93,94,95,96,97,106,107,108,109,110,111,112,113,114,115,116,117,118) have mixed types.Specify dtype option on import or set low_memory=False.\n",
      "  exec(code_obj, self.user_global_ns, self.user_ns)\n"
     ]
    }
   ],
   "source": [
    "# Cell 2: Load data\n",
    "X_train = pd.read_csv(\"../data/raw/X_train_G3tdtEn.csv\")\n",
    "y_train = pd.read_csv(\"../data/raw/Y_train_2_XPXJDyy.csv\")\n",
    "X_test = pd.read_csv(\"../data/raw/X_test_8skS2ey.csv\")"
   ]
  },
  {
   "cell_type": "code",
   "execution_count": 3,
   "id": "26c2b96e",
   "metadata": {},
   "outputs": [],
   "source": [
    "# Cell 3: Format label\n",
    "y_train = y_train[\"fraud_flag\"]"
   ]
  },
  {
   "cell_type": "code",
   "execution_count": 4,
   "id": "4d994ac6",
   "metadata": {},
   "outputs": [],
   "source": [
    "# Cell 4: Preprocessing pipeline\n",
    "num_cols = [col for col in X_train.columns if X_train[col].dtype in ['int64', 'float64'] and col != 'ID']\n",
    "cat_cols = [col for col in X_train.columns if X_train[col].dtype == 'object']\n",
    "\n",
    "numeric_transformer = Pipeline([\n",
    "    (\"imputer\", SimpleImputer(strategy=\"median\")),\n",
    "    (\"scaler\", StandardScaler())\n",
    "])\n",
    "\n",
    "categorical_transformer = Pipeline([\n",
    "    (\"imputer\", SimpleImputer(strategy=\"constant\", fill_value=\"missing\")),\n",
    "    (\"onehot\", OneHotEncoder(handle_unknown=\"ignore\", sparse=True))\n",
    "])\n",
    "\n",
    "preprocessor = ColumnTransformer([\n",
    "    (\"num\", numeric_transformer, num_cols),\n",
    "    (\"cat\", categorical_transformer, cat_cols)\n",
    "])"
   ]
  },
  {
   "cell_type": "code",
   "execution_count": 5,
   "id": "76b29ec5",
   "metadata": {},
   "outputs": [],
   "source": [
    "# Cell 5: Train/test split\n",
    "X_train_part, X_val_part, y_train_part, y_val_part = train_test_split(\n",
    "    X_train, y_train, test_size=0.2, stratify=y_train, random_state=42\n",
    ")\n",
    "\n",
    "X_train_part[cat_cols] = X_train_part[cat_cols].astype(str)\n",
    "X_val_part[cat_cols] = X_val_part[cat_cols].astype(str)"
   ]
  },
  {
   "cell_type": "code",
   "execution_count": null,
   "id": "fcbb9782",
   "metadata": {},
   "outputs": [],
   "source": [
    "# Cell 6: Define stacking model (optimized for speed)\n",
    "base_learners = [\n",
    "    (\"lgbm\", LGBMClassifier(n_estimators=30, random_state=42, n_jobs=1)),\n",
    "    (\"rf\", RandomForestClassifier(n_estimators=30, random_state=42, n_jobs=1))\n",
    "]\n",
    "\n",
    "stack_model = Pipeline([\n",
    "    (\"preprocessor\", preprocessor),\n",
    "    (\"classifier\", StackingClassifier(\n",
    "    estimators=base_learners,\n",
    "    final_estimator=LogisticRegression(max_iter=500, class_weight=\"balanced\"),\n",
    "    n_jobs=1  # ← Important\n",
    "    ))\n",
    "])"
   ]
  },
  {
   "cell_type": "code",
   "execution_count": 7,
   "id": "0e389e76",
   "metadata": {},
   "outputs": [
    {
     "name": "stdout",
     "output_type": "stream",
     "text": [
      "[LightGBM] [Info] Number of positive: 1055, number of negative: 73177\n",
      "[LightGBM] [Info] Auto-choosing row-wise multi-threading, the overhead of testing was 0.630694 seconds.\n",
      "You can set `force_row_wise=true` to remove the overhead.\n",
      "And if memory is not enough, you can set `force_col_wise=true`.\n",
      "[LightGBM] [Info] Total Bins 5078\n",
      "[LightGBM] [Info] Number of data points in the train set: 74232, number of used features: 1401\n",
      "[LightGBM] [Info] [binary:BoostFromScore]: pavg=0.014212 -> initscore=-4.239340\n",
      "[LightGBM] [Info] Start training from score -4.239340\n",
      "[LightGBM] [Info] Number of positive: 844, number of negative: 58541\n",
      "[LightGBM] [Info] Auto-choosing row-wise multi-threading, the overhead of testing was 0.439268 seconds.\n",
      "You can set `force_row_wise=true` to remove the overhead.\n",
      "And if memory is not enough, you can set `force_col_wise=true`.\n",
      "[LightGBM] [Info] Total Bins 4533\n",
      "[LightGBM] [Info] Number of data points in the train set: 59385, number of used features: 1209\n",
      "[LightGBM] [Info] [binary:BoostFromScore]: pavg=0.014212 -> initscore=-4.239330\n",
      "[LightGBM] [Info] Start training from score -4.239330\n",
      "[LightGBM] [Info] Number of positive: 844, number of negative: 58541\n",
      "[LightGBM] [Info] Auto-choosing row-wise multi-threading, the overhead of testing was 0.476056 seconds.\n",
      "You can set `force_row_wise=true` to remove the overhead.\n",
      "And if memory is not enough, you can set `force_col_wise=true`.\n",
      "[LightGBM] [Info] Total Bins 4535\n",
      "[LightGBM] [Info] Number of data points in the train set: 59385, number of used features: 1197\n",
      "[LightGBM] [Info] [binary:BoostFromScore]: pavg=0.014212 -> initscore=-4.239330\n",
      "[LightGBM] [Info] Start training from score -4.239330\n",
      "[LightGBM] [Info] Number of positive: 844, number of negative: 58542\n",
      "[LightGBM] [Info] Auto-choosing row-wise multi-threading, the overhead of testing was 0.451121 seconds.\n",
      "You can set `force_row_wise=true` to remove the overhead.\n",
      "And if memory is not enough, you can set `force_col_wise=true`.\n",
      "[LightGBM] [Info] Total Bins 4570\n",
      "[LightGBM] [Info] Number of data points in the train set: 59386, number of used features: 1216\n",
      "[LightGBM] [Info] [binary:BoostFromScore]: pavg=0.014212 -> initscore=-4.239347\n",
      "[LightGBM] [Info] Start training from score -4.239347\n",
      "[LightGBM] [Info] Number of positive: 844, number of negative: 58542\n",
      "[LightGBM] [Info] Auto-choosing row-wise multi-threading, the overhead of testing was 0.433978 seconds.\n",
      "You can set `force_row_wise=true` to remove the overhead.\n",
      "And if memory is not enough, you can set `force_col_wise=true`.\n",
      "[LightGBM] [Info] Total Bins 4538\n",
      "[LightGBM] [Info] Number of data points in the train set: 59386, number of used features: 1210\n",
      "[LightGBM] [Info] [binary:BoostFromScore]: pavg=0.014212 -> initscore=-4.239347\n",
      "[LightGBM] [Info] Start training from score -4.239347\n",
      "[LightGBM] [Info] Number of positive: 844, number of negative: 58542\n",
      "[LightGBM] [Info] Auto-choosing row-wise multi-threading, the overhead of testing was 0.449528 seconds.\n",
      "You can set `force_row_wise=true` to remove the overhead.\n",
      "And if memory is not enough, you can set `force_col_wise=true`.\n",
      "[LightGBM] [Info] Total Bins 4603\n",
      "[LightGBM] [Info] Number of data points in the train set: 59386, number of used features: 1226\n",
      "[LightGBM] [Info] [binary:BoostFromScore]: pavg=0.014212 -> initscore=-4.239347\n",
      "[LightGBM] [Info] Start training from score -4.239347\n"
     ]
    },
    {
     "data": {
      "text/plain": [
       "Pipeline(steps=[('preprocessor',\n",
       "                 ColumnTransformer(transformers=[('num',\n",
       "                                                  Pipeline(steps=[('imputer',\n",
       "                                                                   SimpleImputer(strategy='median')),\n",
       "                                                                  ('scaler',\n",
       "                                                                   StandardScaler())]),\n",
       "                                                  ['cash_price1', 'cash_price2',\n",
       "                                                   'cash_price3', 'cash_price4',\n",
       "                                                   'cash_price5', 'cash_price6',\n",
       "                                                   'cash_price7', 'cash_price8',\n",
       "                                                   'cash_price9',\n",
       "                                                   'cash_price10',\n",
       "                                                   'cash_price11',\n",
       "                                                   'cash_price12',\n",
       "                                                   'cash_price13',\n",
       "                                                   '...\n",
       "                                                   'item22', 'item23', 'item24',\n",
       "                                                   'make1', 'make2', 'make3',\n",
       "                                                   'make4', 'make5', 'make6', ...])])),\n",
       "                ('classifier',\n",
       "                 StackingClassifier(estimators=[('lgbm',\n",
       "                                                 LGBMClassifier(n_estimators=30,\n",
       "                                                                n_jobs=1,\n",
       "                                                                random_state=42)),\n",
       "                                                ('rf',\n",
       "                                                 RandomForestClassifier(n_estimators=30,\n",
       "                                                                        n_jobs=1,\n",
       "                                                                        random_state=42))],\n",
       "                                    final_estimator=LogisticRegression(class_weight='balanced',\n",
       "                                                                       max_iter=500),\n",
       "                                    n_jobs=1))])"
      ]
     },
     "execution_count": 7,
     "metadata": {},
     "output_type": "execute_result"
    }
   ],
   "source": [
    "# Cell 7: Fit stacking model\n",
    "stack_model.fit(X_train_part, y_train_part)"
   ]
  },
  {
   "cell_type": "code",
   "execution_count": 8,
   "id": "b747cf4b",
   "metadata": {},
   "outputs": [
    {
     "data": {
      "text/plain": [
       "Pipeline(steps=[('preprocessor',\n",
       "                 ColumnTransformer(transformers=[('num',\n",
       "                                                  Pipeline(steps=[('imputer',\n",
       "                                                                   SimpleImputer(strategy='median')),\n",
       "                                                                  ('scaler',\n",
       "                                                                   StandardScaler())]),\n",
       "                                                  ['cash_price1', 'cash_price2',\n",
       "                                                   'cash_price3', 'cash_price4',\n",
       "                                                   'cash_price5', 'cash_price6',\n",
       "                                                   'cash_price7', 'cash_price8',\n",
       "                                                   'cash_price9',\n",
       "                                                   'cash_price10',\n",
       "                                                   'cash_price11',\n",
       "                                                   'cash_price12',\n",
       "                                                   'cash_price13',\n",
       "                                                   '...\n",
       "                                                   'item22', 'item23', 'item24',\n",
       "                                                   'make1', 'make2', 'make3',\n",
       "                                                   'make4', 'make5', 'make6', ...])])),\n",
       "                ('classifier',\n",
       "                 StackingClassifier(estimators=[('lgbm',\n",
       "                                                 LGBMClassifier(n_estimators=30,\n",
       "                                                                n_jobs=1,\n",
       "                                                                random_state=42)),\n",
       "                                                ('rf',\n",
       "                                                 RandomForestClassifier(n_estimators=30,\n",
       "                                                                        n_jobs=1,\n",
       "                                                                        random_state=42))],\n",
       "                                    final_estimator=LogisticRegression(class_weight='balanced',\n",
       "                                                                       max_iter=500),\n",
       "                                    n_jobs=1))])"
      ]
     },
     "execution_count": 8,
     "metadata": {},
     "output_type": "execute_result"
    }
   ],
   "source": [
    "stack_model"
   ]
  },
  {
   "cell_type": "code",
   "execution_count": 9,
   "id": "d19f9da8",
   "metadata": {},
   "outputs": [
    {
     "name": "stdout",
     "output_type": "stream",
     "text": [
      "Stacked Model Validation PR-AUC: 0.2011\n"
     ]
    }
   ],
   "source": [
    "# Cell 8: Evaluate on validation\n",
    "y_val_proba = stack_model.predict_proba(X_val_part)[:, 1]\n",
    "pr_auc = average_precision_score(y_val_part, y_val_proba)\n",
    "print(f\"Stacked Model Validation PR-AUC: {pr_auc:.4f}\")"
   ]
  },
  {
   "cell_type": "code",
   "execution_count": 10,
   "id": "704072a3",
   "metadata": {},
   "outputs": [
    {
     "name": "stdout",
     "output_type": "stream",
     "text": [
      "[LightGBM] [Info] Number of positive: 1319, number of negative: 91471\n",
      "[LightGBM] [Info] Auto-choosing row-wise multi-threading, the overhead of testing was 0.915769 seconds.\n",
      "You can set `force_row_wise=true` to remove the overhead.\n",
      "And if memory is not enough, you can set `force_col_wise=true`.\n",
      "[LightGBM] [Info] Total Bins 5815\n",
      "[LightGBM] [Info] Number of data points in the train set: 92790, number of used features: 1638\n",
      "[LightGBM] [Info] [binary:BoostFromScore]: pavg=0.014215 -> initscore=-4.239148\n",
      "[LightGBM] [Info] Start training from score -4.239148\n",
      "[LightGBM] [Info] Number of positive: 1056, number of negative: 73176\n",
      "[LightGBM] [Info] Auto-choosing row-wise multi-threading, the overhead of testing was 0.653322 seconds.\n",
      "You can set `force_row_wise=true` to remove the overhead.\n",
      "And if memory is not enough, you can set `force_col_wise=true`.\n",
      "[LightGBM] [Info] Total Bins 5119\n",
      "[LightGBM] [Info] Number of data points in the train set: 74232, number of used features: 1407\n",
      "[LightGBM] [Info] [binary:BoostFromScore]: pavg=0.014226 -> initscore=-4.238379\n",
      "[LightGBM] [Info] Start training from score -4.238379\n",
      "[LightGBM] [Info] Number of positive: 1055, number of negative: 73177\n",
      "[LightGBM] [Info] Auto-choosing row-wise multi-threading, the overhead of testing was 0.647474 seconds.\n",
      "You can set `force_row_wise=true` to remove the overhead.\n",
      "And if memory is not enough, you can set `force_col_wise=true`.\n",
      "[LightGBM] [Info] Total Bins 5094\n",
      "[LightGBM] [Info] Number of data points in the train set: 74232, number of used features: 1411\n",
      "[LightGBM] [Info] [binary:BoostFromScore]: pavg=0.014212 -> initscore=-4.239340\n",
      "[LightGBM] [Info] Start training from score -4.239340\n",
      "[LightGBM] [Info] Number of positive: 1055, number of negative: 73177\n",
      "[LightGBM] [Info] Auto-choosing row-wise multi-threading, the overhead of testing was 0.642583 seconds.\n",
      "You can set `force_row_wise=true` to remove the overhead.\n",
      "And if memory is not enough, you can set `force_col_wise=true`.\n",
      "[LightGBM] [Info] Total Bins 5108\n",
      "[LightGBM] [Info] Number of data points in the train set: 74232, number of used features: 1406\n",
      "[LightGBM] [Info] [binary:BoostFromScore]: pavg=0.014212 -> initscore=-4.239340\n",
      "[LightGBM] [Info] Start training from score -4.239340\n",
      "[LightGBM] [Info] Number of positive: 1055, number of negative: 73177\n",
      "[LightGBM] [Info] Auto-choosing row-wise multi-threading, the overhead of testing was 0.656999 seconds.\n",
      "You can set `force_row_wise=true` to remove the overhead.\n",
      "And if memory is not enough, you can set `force_col_wise=true`.\n",
      "[LightGBM] [Info] Total Bins 5140\n",
      "[LightGBM] [Info] Number of data points in the train set: 74232, number of used features: 1406\n",
      "[LightGBM] [Info] [binary:BoostFromScore]: pavg=0.014212 -> initscore=-4.239340\n",
      "[LightGBM] [Info] Start training from score -4.239340\n",
      "[LightGBM] [Info] Number of positive: 1055, number of negative: 73177\n",
      "[LightGBM] [Info] Auto-choosing row-wise multi-threading, the overhead of testing was 0.648477 seconds.\n",
      "You can set `force_row_wise=true` to remove the overhead.\n",
      "And if memory is not enough, you can set `force_col_wise=true`.\n",
      "[LightGBM] [Info] Total Bins 5083\n",
      "[LightGBM] [Info] Number of data points in the train set: 74232, number of used features: 1401\n",
      "[LightGBM] [Info] [binary:BoostFromScore]: pavg=0.014212 -> initscore=-4.239340\n",
      "[LightGBM] [Info] Start training from score -4.239340\n",
      "✅ Submission saved to ../output/submission_stacking.csv\n"
     ]
    }
   ],
   "source": [
    "# Cell 9: Retrain on full training set and predict\n",
    "X_train[cat_cols] = X_train[cat_cols].astype(str)\n",
    "X_test[cat_cols] = X_test[cat_cols].astype(str)\n",
    "stack_model.fit(X_train, y_train)\n",
    "\n",
    "# Save model\n",
    "os.makedirs(\"../output\", exist_ok=True)\n",
    "timestamp = datetime.now().strftime(\"%Y%m%d_%H%M%S\")\n",
    "joblib.dump(stack_model, f\"../output/stacking_model_{timestamp}.joblib\")\n",
    "\n",
    "# Predict on test\n",
    "y_test_pred = stack_model.predict_proba(X_test)[:, 1]\n",
    "\n",
    "# Format submission\n",
    "submission = pd.DataFrame({\n",
    "    \"index\": range(len(X_test)),\n",
    "    \"ID\": X_test[\"ID\"],\n",
    "    \"fraud_flag\": y_test_pred\n",
    "})\n",
    "\n",
    "# Validation du format\n",
    "expected_cols = [\"index\", \"ID\", \"fraud_flag\"]\n",
    "assert submission.shape[1] == 3, \"Le fichier de soumission doit avoir 3 colonnes : index, ID, fraud_flag\"\n",
    "assert submission.columns.tolist() == expected_cols, f\"Les colonnes doivent être exactement {expected_cols}\"\n",
    "assert submission[\"fraud_flag\"].between(0, 1).all(), \"Toutes les probabilités doivent être entre 0 et 1\"\n",
    "assert submission[\"ID\"].is_unique, \"Chaque ID doit être unique\"\n",
    "assert (submission[\"index\"] == range(len(submission))).all(), \"La colonne index doit être une séquence de 0 à N-1\"\n",
    "\n",
    "submission.to_csv(\"../output/submission_stacking.csv\", index=False)\n",
    "print(\"✅ Submission saved to ../output/submission_stacking.csv\")"
   ]
  },
  {
   "cell_type": "code",
   "execution_count": 11,
   "id": "a6528726",
   "metadata": {},
   "outputs": [
    {
     "data": {
      "image/png": "[encoded data removed]",
      "text/plain": [
       "<Figure size 800x500 with 1 Axes>"
      ]
     },
     "metadata": {},
     "output_type": "display_data"
    }
   ],
   "source": [
    "# Cell 10: Plot Precision-Recall curve\n",
    "precision, recall, _ = precision_recall_curve(y_train, stack_model.predict_proba(X_train)[:, 1])\n",
    "plt.figure(figsize=(8, 5))\n",
    "plt.plot(recall, precision, label=f\"PR-AUC = {pr_auc:.2f}\")\n",
    "plt.xlabel(\"Recall\")\n",
    "plt.ylabel(\"Precision\")\n",
    "plt.title(\"Precision-Recall Curve (Stacked Model)\")\n",
    "plt.legend()\n",
    "plt.grid()\n",
    "plt.show()"
   ]
  }
 ],
 "metadata": {
  "kernelspec": {
   "display_name": ".venv",
   "language": "python",
   "name": "python3"
  },
  "language_info": {
   "codemirror_mode": {
    "name": "ipython",
    "version": 3
   },
   "file_extension": ".py",
   "mimetype": "text/x-python",
   "name": "python",
   "nbconvert_exporter": "python",
   "pygments_lexer": "ipython3",
   "version": "3.7.9"
  }
 },
 "nbformat": 4,
 "nbformat_minor": 5
}
