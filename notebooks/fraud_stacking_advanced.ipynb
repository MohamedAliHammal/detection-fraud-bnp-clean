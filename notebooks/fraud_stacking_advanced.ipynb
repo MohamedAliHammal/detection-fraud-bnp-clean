{
 "cells": [
  {
   "cell_type": "code",
   "execution_count": 107,
   "id": "bc8eb826",
   "metadata": {},
   "outputs": [],
   "source": [
    "# Cell 1: Imports\n",
    "import pandas as pd\n",
    "import numpy as np\n",
    "import os\n",
    "\n",
    "from sklearn.pipeline import Pipeline\n",
    "from sklearn.compose import ColumnTransformer\n",
    "from sklearn.impute import SimpleImputer\n",
    "from sklearn.preprocessing import OneHotEncoder, StandardScaler\n",
    "from sklearn.ensemble import RandomForestClassifier, StackingClassifier\n",
    "from sklearn.linear_model import LogisticRegression\n",
    "from xgboost import XGBClassifier\n",
    "from lightgbm import LGBMClassifier\n",
    "from sklearn.model_selection import train_test_split\n",
    "from sklearn.metrics import average_precision_score"
   ]
  },
  {
   "cell_type": "code",
   "execution_count": 108,
   "id": "76300124",
   "metadata": {},
   "outputs": [
    {
     "name": "stderr",
     "output_type": "stream",
     "text": [
      "/var/folders/3x/jrcv617s1gd_94yvvqdgzdrr0000gn/T/ipykernel_3103/377774935.py:2: DtypeWarning: Columns (21,22,23,24,69,70,71,72,93,94,95,96,97,104,105,106,107,108,109,110,111,112,113,114,115,116,117,118,119,120) have mixed types. Specify dtype option on import or set low_memory=False.\n",
      "  X_train = pd.read_csv(\"../data/raw/X_train_G3tdtEn.csv\")\n",
      "/var/folders/3x/jrcv617s1gd_94yvvqdgzdrr0000gn/T/ipykernel_3103/377774935.py:4: DtypeWarning: Columns (20,21,22,23,24,68,69,70,71,72,92,93,94,95,96,97,106,107,108,109,110,111,112,113,114,115,116,117,118) have mixed types. Specify dtype option on import or set low_memory=False.\n",
      "  X_test = pd.read_csv(\"../data/raw/X_test_8skS2ey.csv\")\n"
     ]
    }
   ],
   "source": [
    "# Cell 2: Load data\n",
    "X_train = pd.read_csv(\"../data/raw/X_train_G3tdtEn.csv\")\n",
    "y_train = pd.read_csv(\"../data/raw/Y_train_2_XPXJDyy.csv\")\n",
    "X_test = pd.read_csv(\"../data/raw/X_test_8skS2ey.csv\")"
   ]
  },
  {
   "cell_type": "code",
   "execution_count": 109,
   "id": "26c2b96e",
   "metadata": {},
   "outputs": [],
   "source": [
    "# Cell 3: Format label\n",
    "y_train = y_train[\"fraud_flag\"].astype(int)"
   ]
  },
  {
   "cell_type": "code",
   "execution_count": 110,
   "id": "4d994ac6",
   "metadata": {},
   "outputs": [],
   "source": [
    "# Cell 4: Feature engineering\n",
    "def enrich_features(df):\n",
    "    price_cols = [col for col in df.columns if \"cash_price\" in col]\n",
    "    qty_cols = [col for col in df.columns if \"Nbr_of_prod_purchas\" in col]\n",
    "\n",
    "    df[\"price_mean\"] = df[price_cols].mean(axis=1)\n",
    "    df[\"price_std\"] = df[price_cols].std(axis=1)\n",
    "    df[\"price_sum\"] = df[price_cols].sum(axis=1)\n",
    "\n",
    "    df[\"qty_mean\"] = df[qty_cols].mean(axis=1)\n",
    "    df[\"qty_std\"] = df[qty_cols].std(axis=1)\n",
    "    df[\"qty_sum\"] = df[qty_cols].sum(axis=1)\n",
    "\n",
    "    df[\"non_null_prices\"] = df[price_cols].notnull().sum(axis=1)\n",
    "    df[\"non_null_qty\"] = df[qty_cols].notnull().sum(axis=1)\n",
    "\n",
    "    df[\"avg_price_per_unit\"] = df[\"price_sum\"] / (df[\"qty_sum\"] + 1e-5)\n",
    "    if \"Nb_of_items\" in df.columns:\n",
    "        df[\"price_per_item\"] = df[\"price_sum\"] / (df[\"Nb_of_items\"] + 1e-5)\n",
    "\n",
    "    return df\n",
    "\n",
    "X_train = enrich_features(X_train)\n",
    "X_test = enrich_features(X_test)"
   ]
  },
  {
   "cell_type": "code",
   "execution_count": 111,
   "id": "76b29ec5",
   "metadata": {},
   "outputs": [],
   "source": [
    "# Cell 5: Uniformiser les colonnes object\n",
    "for col in X_train.columns:\n",
    "    if X_train[col].dtype == 'object':\n",
    "        X_train[col] = X_train[col].astype(str)\n",
    "        X_test[col] = X_test[col].astype(str)"
   ]
  },
  {
   "cell_type": "code",
   "execution_count": 112,
   "id": "fcbb9782",
   "metadata": {},
   "outputs": [],
   "source": [
    "# Cell 6: Split + préparation\n",
    "X_train_part, X_val_part, y_train_part, y_val_part = train_test_split(\n",
    "    X_train, y_train, test_size=0.2, stratify=y_train, random_state=42\n",
    ")"
   ]
  },
  {
   "cell_type": "code",
   "execution_count": 113,
   "id": "0e389e76",
   "metadata": {},
   "outputs": [],
   "source": [
    "# Cell 7: Column selection\n",
    "num_cols = [col for col in X_train.columns if X_train[col].dtype in ['int64', 'float64'] and col != 'ID']\n",
    "cat_cols = [col for col in X_train.columns if X_train[col].dtype == 'object']"
   ]
  },
  {
   "cell_type": "code",
   "execution_count": 114,
   "id": "d19f9da8",
   "metadata": {},
   "outputs": [],
   "source": [
    "# Cell 8: Transformers\n",
    "numeric_transformer = Pipeline([\n",
    "    (\"imputer\", SimpleImputer(strategy=\"median\")),\n",
    "    (\"scaler\", StandardScaler())\n",
    "])\n",
    "\n",
    "categorical_transformer = Pipeline([\n",
    "    (\"imputer\", SimpleImputer(strategy=\"constant\", fill_value=\"missing\")),\n",
    "    (\"onehot\", OneHotEncoder(handle_unknown=\"ignore\", sparse_output=False))\n",
    "])\n",
    "\n",
    "preprocessor = ColumnTransformer([\n",
    "    (\"num\", numeric_transformer, num_cols),\n",
    "    (\"cat\", categorical_transformer, cat_cols)\n",
    "])"
   ]
  },
  {
   "cell_type": "code",
   "execution_count": 115,
   "id": "704072a3",
   "metadata": {},
   "outputs": [],
   "source": [
    "# Cell 9: Base learners\n",
    "base_learners = [\n",
    "    (\"rf\", RandomForestClassifier(n_estimators=100, random_state=42, class_weight=\"balanced\")),\n",
    "    (\"lgbm\", LGBMClassifier(n_estimators=100, random_state=42, class_weight=\"balanced\")),\n",
    "    (\"xgb\", XGBClassifier(n_estimators=100, random_state=42, eval_metric=\"logloss\", scale_pos_weight=5))\n",
    "]"
   ]
  },
  {
   "cell_type": "code",
   "execution_count": null,
   "id": "a6528726",
   "metadata": {},
   "outputs": [
    {
     "name": "stdout",
     "output_type": "stream",
     "text": [
      "[LightGBM] [Info] Number of positive: 1055, number of negative: 73177\n",
      "[LightGBM] [Info] Auto-choosing row-wise multi-threading, the overhead of testing was 0.358267 seconds.\n",
      "You can set `force_row_wise=true` to remove the overhead.\n",
      "And if memory is not enough, you can set `force_col_wise=true`.\n",
      "[LightGBM] [Info] Total Bins 6752\n",
      "[LightGBM] [Info] Number of data points in the train set: 74232, number of used features: 1411\n",
      "[LightGBM] [Info] [binary:BoostFromScore]: pavg=0.500000 -> initscore=0.000000\n",
      "[LightGBM] [Info] Start training from score 0.000000\n"
     ]
    }
   ],
   "source": [
    "# Cell 10: Entraînement\n",
    "stack_model = Pipeline([\n",
    "    (\"preprocessor\", preprocessor),\n",
    "    (\"classifier\", StackingClassifier(\n",
    "        estimators=base_learners,\n",
    "        final_estimator=LogisticRegression(max_iter=1000, class_weight=\"balanced\"),\n",
    "        passthrough=True,\n",
    "        n_jobs=-1\n",
    "    ))\n",
    "])\n",
    "\n",
    "stack_model.fit(X_train_part, y_train_part)"
   ]
  },
  {
   "cell_type": "code",
   "execution_count": null,
   "id": "e0b79644",
   "metadata": {},
   "outputs": [],
   "source": [
    "# Cell 11: Évaluation\n",
    "y_val_proba = stack_model.predict_proba(X_val_part)[:, 1]\n",
    "pr_auc = average_precision_score(y_val_part, y_val_proba)\n",
    "print(f\"Stacked Model Validation PR-AUC: {pr_auc:.4f}\")"
   ]
  },
  {
   "cell_type": "code",
   "execution_count": null,
   "id": "93662a11",
   "metadata": {},
   "outputs": [],
   "source": [
    "# Cell 12: Prédiction finale\n",
    "y_test_pred = stack_model.predict_proba(X_test)[:, 1]\n",
    "\n",
    "submission = pd.DataFrame({\n",
    "    \"ID\": X_test[\"ID\"],\n",
    "    \"fraud_flag\": y_test_pred\n",
    "})\n",
    "os.makedirs(\"output\", exist_ok=True)\n",
    "submission.to_csv(\"../output/submission_stacking.csv\", index=False)\n",
    "print(\"Submission saved to output/submission_stacking.csv\")"
   ]
  }
 ],
 "metadata": {
  "kernelspec": {
   "display_name": ".venv",
   "language": "python",
   "name": "python3"
  },
  "language_info": {
   "codemirror_mode": {
    "name": "ipython",
    "version": 3
   },
   "file_extension": ".py",
   "mimetype": "text/x-python",
   "name": "python",
   "nbconvert_exporter": "python",
   "pygments_lexer": "ipython3",
   "version": "3.9.21"
  }
 },
 "nbformat": 4,
 "nbformat_minor": 5
}
